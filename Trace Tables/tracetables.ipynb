{
 "cells": [
  {
   "cell_type": "markdown",
   "metadata": {},
   "source": [
    "# Trace Tables\n",
    "\n",
    "In your books, write trace tables for the following algorithms. Include all variables and the return value. **Don't run the code** until after you've filled in the trace table, you can use it to check your answer."
   ]
  },
  {
   "cell_type": "code",
   "execution_count": null,
   "metadata": {},
   "outputs": [],
   "source": [
    "# Trace x, y, z and output\n",
    "x = 5\n",
    "y = 8\n",
    "z = x\n",
    "while x != 0:\n",
    "    y = y + z\n",
    "    x = x - 1\n",
    "print(y)"
   ]
  },
  {
   "cell_type": "code",
   "execution_count": null,
   "metadata": {},
   "outputs": [],
   "source": [
    "# Trace x, y and output\n",
    "x = 3\n",
    "y = 4\n",
    "while x != 0:\n",
    "    y = y + y + y\n",
    "    x = x - 1\n",
    "print(x)"
   ]
  },
  {
   "cell_type": "code",
   "execution_count": null,
   "metadata": {},
   "outputs": [],
   "source": [
    "# Trace i, out, sqr, out_sqr, and output\n",
    "out = \"\"\n",
    "out_sqr = \"\"\n",
    "for i in range(5):\n",
    "    out = out + str(i)\n",
    "    sqr = i * i\n",
    "    out_sqr = out_sqr + str(sqr)\n",
    "print(out + out_sqr)"
   ]
  }
 ],
 "metadata": {
  "interpreter": {
   "hash": "ac59ebe37160ed0dfa835113d9b8498d9f09ceb179beaac4002f036b9467c963"
  },
  "kernelspec": {
   "display_name": "Python 3.9.5 64-bit",
   "language": "python",
   "name": "python3"
  },
  "language_info": {
   "codemirror_mode": {
    "name": "ipython",
    "version": 3
   },
   "file_extension": ".py",
   "mimetype": "text/x-python",
   "name": "python",
   "nbconvert_exporter": "python",
   "pygments_lexer": "ipython3",
   "version": "3.9.5"
  },
  "orig_nbformat": 4
 },
 "nbformat": 4,
 "nbformat_minor": 2
}
