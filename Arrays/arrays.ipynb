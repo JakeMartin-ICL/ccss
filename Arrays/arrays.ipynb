{
 "cells": [
  {
   "cell_type": "markdown",
   "metadata": {},
   "source": [
    "# Arrays\n",
    "\n",
    "Arrays are a continuous block of memory containing multiple elements, and their size cannot be changed. In Python, arrays are actually lists, which can change in length. \n",
    "\n",
    "To get proper arrays, we're going to use a *library*. This is a collection of code that's already written for us, and we just have to `import` it to use it in our own code. "
   ]
  },
  {
   "cell_type": "code",
   "execution_count": null,
   "metadata": {},
   "outputs": [],
   "source": [
    "# NumPy brings in a lot of features related to arrays. The 'as np' bit lets us refer to it as np in our code.\n",
    "import numpy as np"
   ]
  },
  {
   "cell_type": "markdown",
   "metadata": {},
   "source": [
    "Now to create an empty array using NumPy:"
   ]
  },
  {
   "cell_type": "code",
   "execution_count": null,
   "metadata": {},
   "outputs": [],
   "source": [
    "# This creates an array of length 10 without initialising the values\n",
    "our_array = np.empty(10)\n",
    "print(our_array)"
   ]
  },
  {
   "cell_type": "markdown",
   "metadata": {},
   "source": [
    "Notice that when we print this out, we seem to get random numbers. This is because we haven't set the values to anything, so the numbers are just whatever was lying around in the block of memory.\n",
    "\n",
    "There are also a number of functions that initialise the array for us, such as:"
   ]
  },
  {
   "cell_type": "code",
   "execution_count": null,
   "metadata": {},
   "outputs": [],
   "source": [
    "ones = np.ones(5)\n",
    "print(ones)\n",
    "\n",
    "zeros = np.zeros(5)\n",
    "print(zeros)\n",
    "\n",
    "sevens = np.full(10, 7)\n",
    "print(sevens)"
   ]
  },
  {
   "cell_type": "markdown",
   "metadata": {},
   "source": [
    "And we can also create 2D arrays using any of these by passing a *tuple* as the shape:"
   ]
  },
  {
   "cell_type": "code",
   "execution_count": null,
   "metadata": {},
   "outputs": [],
   "source": [
    "example = np.zeros((2, 3))\n",
    "print(example)"
   ]
  },
  {
   "cell_type": "markdown",
   "metadata": {},
   "source": [
    "Don't worry about remembering any of these for your exam though. When writing pseudocode, you can just create empty arrays like normal (eg. `array new_array[10]`), but they'll be useful for the following exercises.\n",
    "\n",
    "### Exercise 1\n",
    "\n",
    "Write a function that creates an array of the length `length` and fills it with the numbers 0 to `length - 1`."
   ]
  },
  {
   "cell_type": "code",
   "execution_count": null,
   "metadata": {},
   "outputs": [],
   "source": [
    "def array_fill(length):\n",
    "    arr = np.empty(length)\n",
    "    # Code here\n",
    "\n",
    "    return arr\n",
    "\n",
    "print(\"Success!\" if np.all(array_fill(10) == np.arange(10)) else f\"Failed. Expected {np.arange(10)} got {array_fill(10)}\")"
   ]
  }
 ],
 "metadata": {
  "interpreter": {
   "hash": "ac59ebe37160ed0dfa835113d9b8498d9f09ceb179beaac4002f036b9467c963"
  },
  "kernelspec": {
   "display_name": "Python 3.9.5 64-bit",
   "language": "python",
   "name": "python3"
  },
  "language_info": {
   "codemirror_mode": {
    "name": "ipython",
    "version": 3
   },
   "file_extension": ".py",
   "mimetype": "text/x-python",
   "name": "python",
   "nbconvert_exporter": "python",
   "pygments_lexer": "ipython3",
   "version": "3.9.5"
  },
  "orig_nbformat": 4
 },
 "nbformat": 4,
 "nbformat_minor": 2
}
