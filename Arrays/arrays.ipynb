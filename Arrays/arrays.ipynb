{
 "cells": [
  {
   "cell_type": "markdown",
   "metadata": {},
   "source": [
    "# Arrays\n",
    "\n",
    "Arrays are a continuous block of memory containing multiple elements, and their size cannot be changed. In Python, arrays are actually lists, which can change in length. \n",
    "\n",
    "To get proper arrays, we're going to use a *library*. This is a collection of code that's already written for us, and we just have to `import` it to use it in our own code. "
   ]
  },
  {
   "cell_type": "code",
   "execution_count": 1,
   "metadata": {},
   "outputs": [],
   "source": [
    "# NumPy brings in a lot of features related to arrays. The 'as np' bit lets us refer to it as np in our code.\n",
    "import numpy as np"
   ]
  },
  {
   "cell_type": "markdown",
   "metadata": {},
   "source": [
    "Now to create an empty array using NumPy:"
   ]
  },
  {
   "cell_type": "code",
   "execution_count": 2,
   "metadata": {},
   "outputs": [
    {
     "name": "stdout",
     "output_type": "stream",
     "text": [
      "[5.71426876e-312 1.77863633e-322 0.00000000e+000 0.00000000e+000\n",
      " 0.00000000e+000 3.43644171e+179 3.27043848e+179 5.20286388e-090\n",
      " 1.81615061e-052 4.07794782e-315]\n"
     ]
    }
   ],
   "source": [
    "# This creates an array of length 10 without initialising the values\n",
    "our_array = np.empty(10)\n",
    "print(our_array)"
   ]
  },
  {
   "cell_type": "markdown",
   "metadata": {},
   "source": [
    "Notice that when we print this out, we seem to get random numbers. This is because we haven't set the values to anything, so the numbers are just whatever was lying around in the block of memory.\n",
    "\n",
    "There are also a number of functions that initialise the array for us, such as:"
   ]
  },
  {
   "cell_type": "code",
   "execution_count": 3,
   "metadata": {},
   "outputs": [
    {
     "name": "stdout",
     "output_type": "stream",
     "text": [
      "[1. 1. 1. 1. 1.]\n",
      "[0. 0. 0. 0. 0.]\n",
      "[7 7 7 7 7 7 7 7 7 7]\n"
     ]
    }
   ],
   "source": [
    "ones = np.ones(5)\n",
    "print(ones)\n",
    "\n",
    "zeros = np.zeros(5)\n",
    "print(zeros)\n",
    "\n",
    "sevens = np.full(10, 7)\n",
    "print(sevens)"
   ]
  },
  {
   "cell_type": "markdown",
   "metadata": {},
   "source": [
    "And we can also create 2D arrays using any of these by passing a *tuple* as the shape:"
   ]
  },
  {
   "cell_type": "code",
   "execution_count": 4,
   "metadata": {},
   "outputs": [
    {
     "name": "stdout",
     "output_type": "stream",
     "text": [
      "[[0. 0. 0.]\n",
      " [0. 0. 0.]]\n"
     ]
    }
   ],
   "source": [
    "example = np.zeros((2, 3))\n",
    "print(example)"
   ]
  },
  {
   "cell_type": "markdown",
   "metadata": {},
   "source": [
    "Don't worry about remembering any of these for your exam though. When writing pseudocode, you can just create empty arrays like normal (eg. `array new_array[10]`), but they'll be useful for the following exercises.\n",
    "\n",
    "### Exercise 1\n",
    "\n",
    "Write a function that creates an array of the length `length` and fills it with the numbers 0 to `length - 1`."
   ]
  },
  {
   "cell_type": "code",
   "execution_count": 7,
   "metadata": {},
   "outputs": [
    {
     "name": "stdout",
     "output_type": "stream",
     "text": [
      "Failed. Expected [ 0.          0.20408163  0.40816327  0.6122449   0.81632653  1.02040816\n",
      "  1.2244898   1.42857143  1.63265306  1.83673469  2.04081633  2.24489796\n",
      "  2.44897959  2.65306122  2.85714286  3.06122449  3.26530612  3.46938776\n",
      "  3.67346939  3.87755102  4.08163265  4.28571429  4.48979592  4.69387755\n",
      "  4.89795918  5.10204082  5.30612245  5.51020408  5.71428571  5.91836735\n",
      "  6.12244898  6.32653061  6.53061224  6.73469388  6.93877551  7.14285714\n",
      "  7.34693878  7.55102041  7.75510204  7.95918367  8.16326531  8.36734694\n",
      "  8.57142857  8.7755102   8.97959184  9.18367347  9.3877551   9.59183673\n",
      "  9.79591837 10.        ] got [5.71426876e-312 1.77863633e-322 0.00000000e+000 0.00000000e+000\n",
      " 0.00000000e+000 3.43644171e+179 3.27043848e+179 5.20286388e-090\n",
      " 1.81615061e-052 4.07794782e-315]\n"
     ]
    },
    {
     "name": "stderr",
     "output_type": "stream",
     "text": [
      "C:\\Users\\jake_\\AppData\\Local\\Temp/ipykernel_11004/136642394.py:7: DeprecationWarning: elementwise comparison failed; this will raise an error in the future.\n",
      "  print(\"Success!\" if array_fill(10) == np.linspace(0, 10) else f\"Failed. Expected {np.linspace(0, 10)} got {array_fill(10)}\")\n"
     ]
    }
   ],
   "source": [
    "def array_fill(length):\n",
    "    arr = np.empty(length)\n",
    "    # Code here\n",
    "\n",
    "    return arr\n",
    "\n",
    "print(\"Success!\" if array_fill(10) == np.arange(10) else f\"Failed. Expected {np.arange(10)} got {array_fill(10)}\")"
   ]
  }
 ],
 "metadata": {
  "interpreter": {
   "hash": "ac59ebe37160ed0dfa835113d9b8498d9f09ceb179beaac4002f036b9467c963"
  },
  "kernelspec": {
   "display_name": "Python 3.9.5 64-bit",
   "language": "python",
   "name": "python3"
  },
  "language_info": {
   "codemirror_mode": {
    "name": "ipython",
    "version": 3
   },
   "file_extension": ".py",
   "mimetype": "text/x-python",
   "name": "python",
   "nbconvert_exporter": "python",
   "pygments_lexer": "ipython3",
   "version": "3.9.5"
  },
  "orig_nbformat": 4
 },
 "nbformat": 4,
 "nbformat_minor": 2
}
