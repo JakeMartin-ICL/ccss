{
 "cells": [
  {
   "cell_type": "markdown",
   "metadata": {},
   "source": [
    "# String Manipulation\n",
    "\n",
    "For your exam, and in programming in general, we often need to manipulate strings, changing them to suit our needs. These exercises run through everything you could be asked to do in an exam.\n",
    "\n",
    "### Length\n",
    "\n",
    "Use len() to get the length of the given `string`:"
   ]
  },
  {
   "cell_type": "code",
   "execution_count": null,
   "metadata": {},
   "outputs": [],
   "source": [
    "string = \"computer\"\n",
    "\n",
    "# Code here\n",
    "..."
   ]
  },
  {
   "cell_type": "markdown",
   "metadata": {},
   "source": [
    "### Substrings\n",
    "\n",
    "There are a couple of ways we can divide a string into parts. First, let's look at `.split()`:\n",
    "\n",
    "*For code examples, first try and figure out what you think the code will do, then just click the play button when you're ready*"
   ]
  },
  {
   "cell_type": "code",
   "execution_count": null,
   "metadata": {},
   "outputs": [],
   "source": [
    "# This splits our string around the 'delimiter' that we provide\n",
    "string.split('p')"
   ]
  },
  {
   "cell_type": "code",
   "execution_count": null,
   "metadata": {},
   "outputs": [],
   "source": [
    "\"I like programming\".split(\" \")"
   ]
  },
  {
   "cell_type": "code",
   "execution_count": null,
   "metadata": {},
   "outputs": [],
   "source": [
    "\"I like programming\".split(\" \")[1]"
   ]
  },
  {
   "cell_type": "markdown",
   "metadata": {},
   "source": [
    "Now try it yourself. Write a program that asks for a full name, then prints \"Your first name is: _____\""
   ]
  },
  {
   "cell_type": "code",
   "execution_count": null,
   "metadata": {},
   "outputs": [],
   "source": [
    "# Code here"
   ]
  },
  {
   "cell_type": "markdown",
   "metadata": {},
   "source": [
    "We can also split strings using *slices*. Slices allow us to retrieve a *slice* of an array, and since strings are a type of array, we can use this on strings too! Here's some examples:"
   ]
  },
  {
   "cell_type": "code",
   "execution_count": null,
   "metadata": {},
   "outputs": [],
   "source": [
    "numbers = [0, 1, 2, 3, 4, 5]\n",
    "\n",
    "#First, a reminder on how we access elements in arrays\n",
    "three = numbers[3]\n",
    "print(three)"
   ]
  },
  {
   "cell_type": "code",
   "execution_count": null,
   "metadata": {},
   "outputs": [],
   "source": [
    "# Now for slicing\n",
    "# Instead of giving just an integer as the index, we can tell it to give us all the numbers from index 1 to index 3 by doing numbers[start:end].\n",
    "# Note that the result includes the start index but NOT the end index\n",
    "print(f\"numbers[1:3] = {numbers[1:3]}\")\n",
    "\n",
    "# We can also slice to the beginning or the end by leaving the start/end empty \n",
    "print(f\"numbers[:3] = {numbers[:3]}\")\n",
    "print(f\"numbers[3:] = {numbers[3:]}\")\n",
    "\n",
    "# We can also use negative numbers to refer to an index from the end instead of the beginning, and also supply a step value in the middle. Don't worry about that for now, but feel free to play around with it!\n"
   ]
  },
  {
   "cell_type": "markdown",
   "metadata": {},
   "source": [
    "Finally, let's try applying that to our string"
   ]
  },
  {
   "cell_type": "code",
   "execution_count": 17,
   "metadata": {},
   "outputs": [
    {
     "name": "stdout",
     "output_type": "stream",
     "text": [
      "string[:3] = com\n",
      "string[3:] = puter\n",
      "string[1:4] = omp\n"
     ]
    }
   ],
   "source": [
    "print(f\"string[:3] = {string[:3]}\")\n",
    "print(f\"string[3:] = {string[3:]}\")\n",
    "print(f\"string[1:4] = {string[1:4]}\")"
   ]
  },
  {
   "cell_type": "markdown",
   "metadata": {},
   "source": [
    "Now it's your turn. Fill in this **function** so that, given a sentence, it finds the third word, then outputs the first three letters of that word. If the sentence is too short, return an empty string. If the third word is too short, return the entire third word.\n",
    "\n",
    "*The code block also contains a couple of tests that will be run to check your answer.*"
   ]
  },
  {
   "cell_type": "code",
   "execution_count": 18,
   "metadata": {},
   "outputs": [
    {
     "name": "stdout",
     "output_type": "stream",
     "text": [
      "Failed test_1, got None\n",
      "Failed test_2, got None\n",
      "Failed test_3, got None\n"
     ]
    }
   ],
   "source": [
    "def three_of_third(sentence):\n",
    "\n",
    "    return\n",
    "\n",
    "test_1 = three_of_third(\"I like programming\")\n",
    "test_2 = three_of_third(\"The answer\")\n",
    "test_3 = three_of_third(\"The answer is 'is'\")\n",
    "\n",
    "print(\"Success!\" if (test_1 == \"pro\") else f\"Failed test_1, got {test_1}\")\n",
    "print(\"Success!\" if (test_2 == \"\") else f\"Failed test_2, got {test_2}\")\n",
    "print(\"Success!\" if (test_3 == \"is\") else f\"Failed test_3, got {test_3}\")"
   ]
  },
  {
   "cell_type": "markdown",
   "metadata": {},
   "source": [
    "### Formatting\n",
    "\n",
    "You've already seen a lot of formatting in this exercise, but now it's time to do some yourself. Firstly, let's look at concatenation, the joining together of strings:"
   ]
  },
  {
   "cell_type": "code",
   "execution_count": 21,
   "metadata": {},
   "outputs": [
    {
     "name": "stdout",
     "output_type": "stream",
     "text": [
      "I like computers\n"
     ]
    }
   ],
   "source": [
    "joined_string = \"I like \" + string + \"s\"\n",
    "print(joined_string)"
   ]
  },
  {
   "cell_type": "markdown",
   "metadata": {},
   "source": [
    "Try giving it a go yourself. Fill in the strings with your name, then try printing your full name. Don't forget to add a space!"
   ]
  },
  {
   "cell_type": "code",
   "execution_count": 32,
   "metadata": {},
   "outputs": [
    {
     "name": "stdout",
     "output_type": "stream",
     "text": [
      "\n"
     ]
    }
   ],
   "source": [
    "first_name = \"\"\n",
    "surname = \"\"\n",
    "\n",
    "print()"
   ]
  },
  {
   "cell_type": "markdown",
   "metadata": {},
   "source": [
    "Another way of joining and formatting strings in Python is f-strings. You've already seen them, so there's no set exercise here, but feel free to play around with it. Just put `f` before the string and put bits that you want replacing with variables in curly brackets."
   ]
  },
  {
   "cell_type": "code",
   "execution_count": 24,
   "metadata": {},
   "outputs": [
    {
     "name": "stdout",
     "output_type": "stream",
     "text": [
      "Your first name is  and your surname is \n"
     ]
    }
   ],
   "source": [
    "print(f\"Your first name is {first_name} and your surname is {surname}\")"
   ]
  },
  {
   "cell_type": "markdown",
   "metadata": {},
   "source": [
    "### Upper/lowercase\n",
    "\n",
    "`.upper()` and `.lower()` change the case of a word. Upper is shown, try adding lower too:"
   ]
  },
  {
   "cell_type": "code",
   "execution_count": 31,
   "metadata": {},
   "outputs": [
    {
     "name": "stdout",
     "output_type": "stream",
     "text": [
      "Jake\n"
     ]
    }
   ],
   "source": [
    "print(first_name.upper())"
   ]
  },
  {
   "cell_type": "markdown",
   "metadata": {},
   "source": [
    "### Ascii conversion\n",
    "\n",
    "You can get python to output the ASCII representation of a character with `ord()`, while `chr()` gets the character given the ASCII code."
   ]
  },
  {
   "cell_type": "code",
   "execution_count": 38,
   "metadata": {},
   "outputs": [
    {
     "name": "stdout",
     "output_type": "stream",
     "text": [
      "102\n",
      "f\n"
     ]
    }
   ],
   "source": [
    "print(ord('f'))\n",
    "print(chr(102))"
   ]
  },
  {
   "cell_type": "markdown",
   "metadata": {},
   "source": [
    "### Exercise: Caesar Cipher\n",
    "\n",
    "The Roman emperor Caesar supposedly wrote secret messages by shifting all the letters by some secret amount. For example, if the shift was three to the right, a would become d and b would become e. Not a very difficult code to crack, but a very easy one to program!\n",
    "\n",
    "Fill in this function that takes a string and a shift value (which can be negative for left shifts) and shifts all the characters right by the shift value. We'll also convert the input to lowercase before processing."
   ]
  },
  {
   "cell_type": "code",
   "execution_count": 59,
   "metadata": {},
   "outputs": [
    {
     "name": "stdout",
     "output_type": "stream",
     "text": [
      "Failed test_1, got \n",
      "Failed test_2, got \n"
     ]
    }
   ],
   "source": [
    "def caesar_cipher(word, shift):\n",
    "    out = \"\"\n",
    "    # Your code here\n",
    "\n",
    "    return out\n",
    "\n",
    "test_1 = caesar_cipher(\"I like programming\", 3)\n",
    "test_2 = caesar_cipher(\"The answer\", -2)\n",
    "\n",
    "print(\"Success!\" if (test_1 == \"l#olnh#surjudpplqj\") else f\"Failed test_1, got {test_1}\")\n",
    "print(\"Success!\" if (test_2 == \"rfc\u001e_lqucp\") else f\"Failed test_2, got {test_2}\")"
   ]
  }
 ],
 "metadata": {
  "interpreter": {
   "hash": "ac59ebe37160ed0dfa835113d9b8498d9f09ceb179beaac4002f036b9467c963"
  },
  "kernelspec": {
   "display_name": "Python 3.9.5 64-bit",
   "language": "python",
   "name": "python3"
  },
  "language_info": {
   "codemirror_mode": {
    "name": "ipython",
    "version": 3
   },
   "file_extension": ".py",
   "mimetype": "text/x-python",
   "name": "python",
   "nbconvert_exporter": "python",
   "pygments_lexer": "ipython3",
   "version": "3.9.5"
  },
  "orig_nbformat": 4
 },
 "nbformat": 4,
 "nbformat_minor": 2
}
