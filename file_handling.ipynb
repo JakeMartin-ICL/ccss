{
 "cells": [
  {
   "cell_type": "markdown",
   "metadata": {},
   "source": [
    "# File Handling\n",
    "\n",
    "When programming, sometimes we want to use files. This might be to save the state of our program, or so that we can perform some sort of processing on a saved file. Since state is usually saved using something like JSON and a library for loading and saving it, which isn't covered in your course, today we'll be doing some text processing.\n",
    "\n",
    "### Step 1 - Open the file\n",
    "\n",
    "First, take a look at the text file in the 'Data' folder.\n",
    "In the same way you needed to open the file to read it, Python will also need to open the file first. Now try to open the file using Python and assign it to a variable so we can access it.\n",
    "Don't forget:\n",
    " - you'll need to tell Python *where* the file is.\n",
    " - the file extension."
   ]
  },
  {
   "cell_type": "code",
   "execution_count": 2,
   "metadata": {},
   "outputs": [],
   "source": [
    "my_file = ..."
   ]
  },
  {
   "cell_type": "markdown",
   "metadata": {},
   "source": [
    "### Step 2 - Reading\n",
    "\n",
    "Let's check that worked by trying to `print` the first line of the file. Read the first line of the file into a new variable called `firstLine`, then `print` the variable and check the output."
   ]
  },
  {
   "cell_type": "code",
   "execution_count": 3,
   "metadata": {},
   "outputs": [
    {
     "name": "stdout",
     "output_type": "stream",
     "text": [
      "Lorem ipsum dolor sit amet, consectetur adipiscing elit. Nulla sagittis urna quis purus accumsan, eu mattis risus fermentum. Mauris et neque quis diam elementum mollis. Quisque et dapibus mi. Nunc lacinia tristique dui, sed convallis risus suscipit ac. Nulla ultricies aliquet dui a interdum. Suspendisse potenti. Fusce commodo fermentum nibh id ultricies. Pellentesque accumsan tempus mauris nec luctus. Sed arcu nisi, luctus eu ante id, egestas accumsan orci. Nam sollicitudin vitae nibh vel porttitor. Phasellus tincidunt cursus lacinia. Cras venenatis, turpis eget tincidunt laoreet, enim leo tempus nisi, non aliquam arcu arcu nec velit. Donec a erat vitae mauris hendrerit rutrum non eget turpis. Duis non bibendum nisl, vitae cursus nunc. Sed pharetra, ex ut condimentum vehicula, ipsum justo cursus diam, nec malesuada ex leo non enim. Cras risus justo, gravida non lorem ac, consectetur condimentum turpis.\n",
      "\n"
     ]
    }
   ],
   "source": [
    "#Code here:"
   ]
  },
  {
   "cell_type": "markdown",
   "metadata": {},
   "source": [
    "Notice that a *line* is not just a sentence, and might even span multiple lines on your screen. When you read a 'line', Python reads until it sees a `\\n` character (the hidden *newline* character).\n",
    "\n",
    "### Step 3 - Writing\n",
    "\n",
    "Now see what happens when you try to write a new line (any `string` you like) on the end of the file using `.write()`"
   ]
  },
  {
   "cell_type": "code",
   "execution_count": 4,
   "metadata": {},
   "outputs": [
    {
     "ename": "UnsupportedOperation",
     "evalue": "not writable",
     "output_type": "error",
     "traceback": [
      "\u001b[1;31m---------------------------------------------------------------------------\u001b[0m",
      "\u001b[1;31mUnsupportedOperation\u001b[0m                      Traceback (most recent call last)",
      "\u001b[1;32m~\\AppData\\Local\\Temp/ipykernel_40120/4076712625.py\u001b[0m in \u001b[0;36m<module>\u001b[1;34m\u001b[0m\n\u001b[1;32m----> 1\u001b[1;33m \u001b[0mmyFile\u001b[0m\u001b[1;33m.\u001b[0m\u001b[0mwrite\u001b[0m\u001b[1;33m(\u001b[0m\u001b[1;34m\"Hi\"\u001b[0m\u001b[1;33m)\u001b[0m\u001b[1;33m\u001b[0m\u001b[1;33m\u001b[0m\u001b[0m\n\u001b[0m",
      "\u001b[1;31mUnsupportedOperation\u001b[0m: not writable"
     ]
    }
   ],
   "source": [
    "#Code here:"
   ]
  },
  {
   "cell_type": "markdown",
   "metadata": {},
   "source": [
    "This is because Python opens files as *read-only* by default. Now close the file, then open it again, this time with another parameter after the file name: `..., \"a\")`. This tells python we'd like to append our written lines to the end of the file.\n",
    "Since we've made changes, make sure to tell Python to *close* the file after the write to make sure that change gets written!\n",
    "Now, when you try to write, you should succeed. Try opening the file again in your text editor to see the change you made (you might need to close and reopen the text editor to see the change). "
   ]
  },
  {
   "cell_type": "code",
   "execution_count": 17,
   "metadata": {},
   "outputs": [
    {
     "data": {
      "text/plain": [
       "2"
      ]
     },
     "execution_count": 17,
     "metadata": {},
     "output_type": "execute_result"
    }
   ],
   "source": [
    "#Code here:"
   ]
  },
  {
   "cell_type": "markdown",
   "metadata": {},
   "source": [
    "You can also try out the 'w' and 'x' modes if you like, but they're not part of your course. OCR expects opened files to always be writeable and new lines to always be appended to the end of the file!\n",
    "\n",
    "### File creation\n",
    "\n",
    "Finally, try creating a new file, opening it, then writing a line to it, then closing it. Open the file in your text editor to see if it works."
   ]
  },
  {
   "cell_type": "code",
   "execution_count": 25,
   "metadata": {},
   "outputs": [],
   "source": [
    "# This is some code that adds OCR-pseudocode-like syntax to Python, so you can use either for this exercise.\n",
    "# Leave it as it is, but you probably understand it anyway!\n",
    "################################################################\n",
    "def newFile(fileName):\n",
    "    return open(fileName, 'x')\n",
    "################################################################\n",
    "\n",
    "###### Your code goes here:"
   ]
  },
  {
   "cell_type": "markdown",
   "metadata": {},
   "source": [
    "### Extension\n",
    "\n",
    "That covers everything you need to know for the exam, but this exercise challenges you to put it into practice.\n",
    "For this exercise, use the longer file in the 'Extension' folder.\n",
    "\n",
    "1. Read the 42nd line of the text into a variable. Assume you only have access to `readline` (rather than `.read()` then splitting) and don't just write `readline` 42 times!\n",
    "\n",
    "2. Create a new file called \"out.txt\", then write that 42nd line in three times.\n",
    "\n",
    "3. Create a *function* `oddReader(file_to_read, file_to_write): ` that takes a file, then writes every odd line (first line is 0) to the end of another file. Then run this with `file_to_read` as extension.txt and `file_to_write` as your new file from 2. Tip: you can iterate over the lines in the file with `for line in fileobject` and make sure to close both files at the end of the function.\n",
    "\n",
    "4. Create a *function* `wordWriter(word, count, file_to_write): ` that adds a word to the end of a file `count` times. Each word should be on a new line!\n",
    "\n",
    "5. Run `wordWriter` with your first name as `word`, `count` as the length of the 42nd line of extension and `file_to_write` as your file from 2 and 3.\n",
    "\n",
    "6. Run `oddReader` on your file and save the result in a new file called answer.txt.\n",
    "\n",
    "7. Find the length of answer.txt (in characters) and tell me the answer. Tip: use `.read()` to get the whole file as a string that you can find the length of.\n",
    "\n",
    "8. First correct answer wins!"
   ]
  },
  {
   "cell_type": "code",
   "execution_count": null,
   "metadata": {},
   "outputs": [],
   "source": [
    "### This will clear your out and answer files each time you run this code block to make sure you don't keep adding stuff while testing\n",
    "import os\n",
    "if os.path.exists(\"out.txt\"):\n",
    "  os.remove(\"out.txt\")\n",
    "if os.path.exists(\"answer.txt\"):\n",
    "  os.remove(\"answer.txt\")\n",
    "\n",
    "### Your code:\n",
    "\n",
    "\n"
   ]
  }
 ],
 "metadata": {
  "interpreter": {
   "hash": "ac59ebe37160ed0dfa835113d9b8498d9f09ceb179beaac4002f036b9467c963"
  },
  "kernelspec": {
   "display_name": "Python 3.9.5 64-bit",
   "language": "python",
   "name": "python3"
  },
  "language_info": {
   "codemirror_mode": {
    "name": "ipython",
    "version": 3
   },
   "file_extension": ".py",
   "mimetype": "text/x-python",
   "name": "python",
   "nbconvert_exporter": "python",
   "pygments_lexer": "ipython3",
   "version": "3.9.5"
  },
  "orig_nbformat": 4
 },
 "nbformat": 4,
 "nbformat_minor": 2
}
