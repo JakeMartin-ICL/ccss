{
 "cells": [
  {
   "cell_type": "markdown",
   "metadata": {},
   "source": [
    "# Intro to Programming\n",
    "\n",
    "This notebook is to help get you started with the basics of practical programming, and once completed you can use it as a reference for future exercises. Being able to program is an important skill, teaching you how to break down a problem while getting instant feedback so you can correct your mistakes. Follow the instructions carefully, try to understand what each line is doing, and ask me if you have any questions. Don't worry (or even be surprised) if your code doesn't work initially, I'm always very surprised when my own code works first time. Read the error message to try and figure out why it didn't work and correct it. Also, each concept probably appears later in the notebook, it's not cheating to look ahead if you need help with the structure!\n",
    "\n",
    "### Hello World\n",
    "\n",
    "Producing an output is useful to output the program's result, or can be used to output variables during debugging to try and figure out why something's not working.\n",
    "In the code block below, write a `print()` statement to output \"Hello world\". To run the block, you can click the play button in the top right corner of the cell."
   ]
  },
  {
   "cell_type": "code",
   "execution_count": null,
   "metadata": {},
   "outputs": [],
   "source": [
    "# This is a comment\n",
    "# Your code goes here"
   ]
  },
  {
   "cell_type": "markdown",
   "metadata": {},
   "source": [
    "### Input\n",
    "\n",
    "Now let's add user input. Ask for the user's name using `input()`, setting `name` to their response."
   ]
  },
  {
   "cell_type": "code",
   "execution_count": null,
   "metadata": {},
   "outputs": [],
   "source": [
    "name = \n",
    "\n",
    "print(f\"Hello {name}\")\n",
    "# Tip:^ This f tells python to format the string, replacing anything in curly brackets."
   ]
  },
  {
   "cell_type": "markdown",
   "metadata": {},
   "source": [
    "### If-Else and Casting\n",
    "\n",
    "Let's try a maths question. We'll ask the user what 7 times 6 is, then mark their answer. The response, which is a `String`, will be saved as `answer`. We need to convert this string into an integer so we can compare it to the correct answer by casting it with `int()`. We can then use an `if` statement to output either `\"Correct!\"` or `\"Incorrect\"`."
   ]
  },
  {
   "cell_type": "code",
   "execution_count": null,
   "metadata": {},
   "outputs": [],
   "source": [
    "answer = input(\"What's 7 times 6?\")\n",
    "\n",
    "if ...:\n",
    "    # Condition is True\n",
    "else:\n",
    "    # #Condition is False"
   ]
  },
  {
   "cell_type": "markdown",
   "metadata": {},
   "source": [
    "### Arrays/lists\n",
    "\n",
    "Arrays are a type of data structure. They hold multiple pieces of data together in a single block. In Python, arrays are often actually *lists*, which can vary in length after their creation by adding or removing elements, but in general arrays have a length that's fixed and are continuous blocks of memory.\n",
    "\n",
    "Create an array with the names of 5 colours, then access the third element and print it. Then change that element to \"seven\", then print the whole array to see the change."
   ]
  },
  {
   "cell_type": "code",
   "execution_count": null,
   "metadata": {},
   "outputs": [],
   "source": [
    "colours = []\n",
    "print()\n",
    "... = \"seven\"\n",
    "print(colours)"
   ]
  },
  {
   "cell_type": "markdown",
   "metadata": {},
   "source": [
    "### While loop\n",
    "\n",
    "While loops run all the code within them as long as their condition is true. Here's a couple of examples:\n",
    "*For code examples, first try and figure out what you think the code will do, then just click the play button when you're ready*"
   ]
  },
  {
   "cell_type": "code",
   "execution_count": null,
   "metadata": {},
   "outputs": [],
   "source": [
    "x = 0\n",
    "while x < 5:\n",
    "    print(x)\n",
    "    x = x + 1\n",
    "print(f\"Exited the loop because {x} < 5 is False\")\n",
    "\n",
    "b = False\n",
    "while not b:\n",
    "    b = input(\"Type stop to stop\") == \"stop\"\n",
    "print(f\"Exited the loop because b is {b} so not b is {not b}\")"
   ]
  },
  {
   "cell_type": "markdown",
   "metadata": {},
   "source": [
    "Now try creating your own while loop that counts down from 5, stopping at 0."
   ]
  },
  {
   "cell_type": "code",
   "execution_count": null,
   "metadata": {},
   "outputs": [],
   "source": [
    "x = ...\n",
    "\n",
    "while ...:\n",
    "    print(x)\n",
    "    ..."
   ]
  },
  {
   "cell_type": "markdown",
   "metadata": {},
   "source": [
    "### For loop\n",
    "\n",
    "For loops are very similar, but are probably more commonly used. Here's a few examples of how to create a for loop in Python."
   ]
  },
  {
   "cell_type": "code",
   "execution_count": null,
   "metadata": {},
   "outputs": [],
   "source": [
    "days = [\"Monday\", \"Tuesday\", \"Wednesday\", \"Everyotherday\"] # An array we'll iterate through\n",
    "\n",
    "# We then pick a name for the variable that will become each element in the array as we iterate through it. In this case, I picked 'day'.\n",
    "for day in days: \n",
    "    # The loop goes through days, setting day to each element before running the code.\n",
    "    print(f\"The variable 'day' is now {day}\")"
   ]
  },
  {
   "cell_type": "code",
   "execution_count": null,
   "metadata": {},
   "outputs": [],
   "source": [
    "# We can iterate through anything that acts like a list. For example, a string is just a list of characters:\n",
    "for letter in \"Hello world\":\n",
    "    print(letter)"
   ]
  },
  {
   "cell_type": "markdown",
   "metadata": {},
   "source": [
    "It's very common to use the `range()` function in conjuction with a for-loop. The range function creates a sequence of all the numbers up to  but **not including** the number specified."
   ]
  },
  {
   "cell_type": "code",
   "execution_count": null,
   "metadata": {},
   "outputs": [],
   "source": [
    "for x in range(4):\n",
    "  print(x)"
   ]
  },
  {
   "cell_type": "code",
   "execution_count": null,
   "metadata": {},
   "outputs": [],
   "source": [
    "for x in range(3, 5):\n",
    "  print(x)"
   ]
  },
  {
   "cell_type": "markdown",
   "metadata": {},
   "source": [
    "Now try creating a for loop that iterates through this list of numbers, multiplying each by two and outputting the result."
   ]
  },
  {
   "cell_type": "code",
   "execution_count": null,
   "metadata": {},
   "outputs": [],
   "source": [
    "numbers = [1, 2, 3, 4]\n",
    "for ... :\n",
    "    print()"
   ]
  },
  {
   "cell_type": "markdown",
   "metadata": {},
   "source": [
    "### Functions\n",
    "\n",
    "Functions allow us to break up code and re-use it. Below is a function that doubles a number. Write another function that multiplies a number by four using `dbl()` only."
   ]
  },
  {
   "cell_type": "code",
   "execution_count": null,
   "metadata": {},
   "outputs": [],
   "source": [
    "def dbl(i):\n",
    "    return i * 2\n",
    "\n",
    "def ..."
   ]
  },
  {
   "cell_type": "markdown",
   "metadata": {},
   "source": [
    "## That's it!\n",
    "\n",
    "That's all for Intro to Programming. Make sure you've completed all the exercises so that you can use this notebook as a reference to return to."
   ]
  }
 ],
 "metadata": {
  "interpreter": {
   "hash": "ac59ebe37160ed0dfa835113d9b8498d9f09ceb179beaac4002f036b9467c963"
  },
  "kernelspec": {
   "display_name": "Python 3.9.5 64-bit",
   "language": "python",
   "name": "python3"
  },
  "language_info": {
   "codemirror_mode": {
    "name": "ipython",
    "version": 3
   },
   "file_extension": ".py",
   "mimetype": "text/x-python",
   "name": "python",
   "nbconvert_exporter": "python",
   "pygments_lexer": "ipython3",
   "version": "3.9.5"
  },
  "orig_nbformat": 4
 },
 "nbformat": 4,
 "nbformat_minor": 2
}
